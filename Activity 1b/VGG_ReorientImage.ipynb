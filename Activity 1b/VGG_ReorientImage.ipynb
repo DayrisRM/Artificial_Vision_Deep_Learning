{
  "nbformat": 4,
  "nbformat_minor": 0,
  "metadata": {
    "colab": {
      "name": "VGG_ReorientImage.ipynb",
      "provenance": [],
      "authorship_tag": "ABX9TyMlR6Cexb6fEDGIgbPd7XR5"
    },
    "kernelspec": {
      "name": "python3",
      "display_name": "Python 3"
    },
    "language_info": {
      "name": "python"
    },
    "accelerator": "GPU",
    "gpuClass": "standard"
  },
  "cells": [
    {
      "cell_type": "code",
      "execution_count": 1,
      "metadata": {
        "colab": {
          "resources": {
            "http://localhost:8080/nbextensions/google.colab/files.js": {
              "data": "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",
              "ok": true,
              "headers": [
                [
                  "content-type",
                  "application/javascript"
                ]
              ],
              "status": 200,
              "status_text": ""
            }
          },
          "base_uri": "https://localhost:8080/",
          "height": 73
        },
        "id": "G_7W08srIKxZ",
        "outputId": "5862465d-3ffe-44dc-c7d4-62940817703e"
      },
      "outputs": [
        {
          "output_type": "display_data",
          "data": {
            "text/plain": [
              "<IPython.core.display.HTML object>"
            ],
            "text/html": [
              "\n",
              "     <input type=\"file\" id=\"files-22668ff9-c5b7-4679-b069-52b8b1e79fea\" name=\"files[]\" multiple disabled\n",
              "        style=\"border:none\" />\n",
              "     <output id=\"result-22668ff9-c5b7-4679-b069-52b8b1e79fea\">\n",
              "      Upload widget is only available when the cell has been executed in the\n",
              "      current browser session. Please rerun this cell to enable.\n",
              "      </output>\n",
              "      <script src=\"/nbextensions/google.colab/files.js\"></script> "
            ]
          },
          "metadata": {}
        },
        {
          "output_type": "stream",
          "name": "stdout",
          "text": [
            "Saving dataset_rey_rot.zip to dataset_rey_rot.zip\n"
          ]
        }
      ],
      "source": [
        "from google.colab import files\n",
        "uploaded = files.upload()"
      ]
    },
    {
      "cell_type": "code",
      "source": [
        "import zipfile\n",
        "import io\n",
        "data = zipfile.ZipFile(io.BytesIO(uploaded['dataset_rey_rot.zip']), 'r')\n",
        "data.extractall()"
      ],
      "metadata": {
        "id": "w4iyZvkSIshf"
      },
      "execution_count": 2,
      "outputs": []
    },
    {
      "cell_type": "code",
      "source": [
        "from tqdm import tqdm\n",
        "import os\n",
        "import cv2\n",
        "import numpy as np\n",
        "import itertools\n",
        "from sklearn.metrics import accuracy_score, confusion_matrix\n",
        "from PIL import Image"
      ],
      "metadata": {
        "id": "bJPTqqevIx2-"
      },
      "execution_count": 3,
      "outputs": []
    },
    {
      "cell_type": "code",
      "source": [
        "train_path = '/content/dataset_rey_rot/train/' \n",
        "test_path = '/content/dataset_rey_rot/test/'\n",
        "validation_path = '/content/dataset_rey_rot/val/'"
      ],
      "metadata": {
        "id": "bi-eVf0jI02G"
      },
      "execution_count": 4,
      "outputs": []
    },
    {
      "cell_type": "code",
      "source": [
        "classes = ['rot0', 'rot90','rot180','rot-90']"
      ],
      "metadata": {
        "id": "bYljkOQ2I2gO"
      },
      "execution_count": 5,
      "outputs": []
    },
    {
      "cell_type": "code",
      "source": [
        "print('The training set consists of ', \n",
        "      classes[0] + ': ',\n",
        "      len(os.listdir(train_path + classes[0] + '/')), ' images. ',\n",
        "      classes[1] + ': ',\n",
        "      len(os.listdir(train_path + classes[1] + '/')), ' images. ',\n",
        "      classes[2] + ': ',\n",
        "      len(os.listdir(train_path + classes[2] + '/')), ' images. ',\n",
        "      classes[3] + ': ',\n",
        "      len(os.listdir(train_path + classes[3] + '/')), ' images. '\n",
        "      )"
      ],
      "metadata": {
        "colab": {
          "base_uri": "https://localhost:8080/"
        },
        "id": "ZKcRj8OFI7OR",
        "outputId": "037feeb1-3a07-47cf-cc28-7dd5b7fd44cd"
      },
      "execution_count": 6,
      "outputs": [
        {
          "output_type": "stream",
          "name": "stdout",
          "text": [
            "The training set consists of  rot0:  253  images.  rot90:  348  images.  rot180:  24  images.  rot-90:  83  images. \n"
          ]
        }
      ]
    },
    {
      "cell_type": "code",
      "source": [
        "print('The test set consists of ', \n",
        "      classes[0] + ': ',\n",
        "      len(os.listdir(test_path + classes[0] + '/')), ' images. ',\n",
        "      classes[1] + ': ',\n",
        "      len(os.listdir(test_path + classes[1] + '/')), ' images. ',\n",
        "      classes[2] + ': ',\n",
        "      len(os.listdir(test_path + classes[2] + '/')), ' images. ',\n",
        "      classes[3] + ': ',\n",
        "      len(os.listdir(test_path + classes[3] + '/')), ' images. '\n",
        "      )"
      ],
      "metadata": {
        "colab": {
          "base_uri": "https://localhost:8080/"
        },
        "id": "Xs-GFQ7GI-XO",
        "outputId": "393868a3-d1fa-4069-898b-f6ee717c12e5"
      },
      "execution_count": 7,
      "outputs": [
        {
          "output_type": "stream",
          "name": "stdout",
          "text": [
            "The test set consists of  rot0:  33  images.  rot90:  44  images.  rot180:  3  images.  rot-90:  11  images. \n"
          ]
        }
      ]
    },
    {
      "cell_type": "markdown",
      "source": [
        "**-------------> VGG16 model <-------------**"
      ],
      "metadata": {
        "id": "fi7HZXMHJA6X"
      }
    },
    {
      "cell_type": "code",
      "source": [
        "from keras.applications.vgg16 import VGG16\n",
        "from keras.models import Model\n",
        "from keras.layers import Dense\n",
        "from keras.layers import Flatten\n",
        "from tensorflow.keras.optimizers import SGD\n",
        "from keras.preprocessing.image import ImageDataGenerator\n",
        "import tensorflow as tf\n",
        "from matplotlib import pyplot\n",
        "from keras.callbacks import EarlyStopping"
      ],
      "metadata": {
        "id": "6X_FaRUHJKEP"
      },
      "execution_count": 8,
      "outputs": []
    },
    {
      "cell_type": "code",
      "source": [
        "# define cnn model\n",
        "def define_model():\n",
        "  # load model\n",
        "  model = VGG16(include_top=False, input_shape=(224, 224, 3))\n",
        "  # mark loaded layers as not trainable\n",
        "  for layer in model.layers:\n",
        "    layer.trainable = False\n",
        "  \n",
        "  last_layer = model.get_layer('block5_pool')\n",
        "  last_output = last_layer.output\n",
        "  x = tf.keras.layers.GlobalMaxPooling2D()(last_output)\n",
        "  x = tf.keras.layers.Dense(512, activation='relu')(x)\n",
        "  x = tf.keras.layers.Dropout(0.5)(x)\n",
        "  x = tf.keras.layers.Dense(4, activation='softmax')(x)\n",
        "  model = tf.keras.Model(model.input, x)  \n",
        "\n",
        "  model.compile(optimizer='adam', loss='categorical_crossentropy', metrics=['accuracy'])\n",
        "\n",
        "  return model"
      ],
      "metadata": {
        "id": "g2Dt8NvWKrEb"
      },
      "execution_count": 9,
      "outputs": []
    },
    {
      "cell_type": "code",
      "source": [
        "model = define_model()\n",
        "model.summary()"
      ],
      "metadata": {
        "colab": {
          "base_uri": "https://localhost:8080/"
        },
        "id": "lcC0wNIWK0tq",
        "outputId": "a59428ed-5700-42bf-dea5-baee48315c85"
      },
      "execution_count": 10,
      "outputs": [
        {
          "output_type": "stream",
          "name": "stdout",
          "text": [
            "Downloading data from https://storage.googleapis.com/tensorflow/keras-applications/vgg16/vgg16_weights_tf_dim_ordering_tf_kernels_notop.h5\n",
            "58892288/58889256 [==============================] - 2s 0us/step\n",
            "58900480/58889256 [==============================] - 2s 0us/step\n",
            "Model: \"model\"\n",
            "_________________________________________________________________\n",
            " Layer (type)                Output Shape              Param #   \n",
            "=================================================================\n",
            " input_1 (InputLayer)        [(None, 224, 224, 3)]     0         \n",
            "                                                                 \n",
            " block1_conv1 (Conv2D)       (None, 224, 224, 64)      1792      \n",
            "                                                                 \n",
            " block1_conv2 (Conv2D)       (None, 224, 224, 64)      36928     \n",
            "                                                                 \n",
            " block1_pool (MaxPooling2D)  (None, 112, 112, 64)      0         \n",
            "                                                                 \n",
            " block2_conv1 (Conv2D)       (None, 112, 112, 128)     73856     \n",
            "                                                                 \n",
            " block2_conv2 (Conv2D)       (None, 112, 112, 128)     147584    \n",
            "                                                                 \n",
            " block2_pool (MaxPooling2D)  (None, 56, 56, 128)       0         \n",
            "                                                                 \n",
            " block3_conv1 (Conv2D)       (None, 56, 56, 256)       295168    \n",
            "                                                                 \n",
            " block3_conv2 (Conv2D)       (None, 56, 56, 256)       590080    \n",
            "                                                                 \n",
            " block3_conv3 (Conv2D)       (None, 56, 56, 256)       590080    \n",
            "                                                                 \n",
            " block3_pool (MaxPooling2D)  (None, 28, 28, 256)       0         \n",
            "                                                                 \n",
            " block4_conv1 (Conv2D)       (None, 28, 28, 512)       1180160   \n",
            "                                                                 \n",
            " block4_conv2 (Conv2D)       (None, 28, 28, 512)       2359808   \n",
            "                                                                 \n",
            " block4_conv3 (Conv2D)       (None, 28, 28, 512)       2359808   \n",
            "                                                                 \n",
            " block4_pool (MaxPooling2D)  (None, 14, 14, 512)       0         \n",
            "                                                                 \n",
            " block5_conv1 (Conv2D)       (None, 14, 14, 512)       2359808   \n",
            "                                                                 \n",
            " block5_conv2 (Conv2D)       (None, 14, 14, 512)       2359808   \n",
            "                                                                 \n",
            " block5_conv3 (Conv2D)       (None, 14, 14, 512)       2359808   \n",
            "                                                                 \n",
            " block5_pool (MaxPooling2D)  (None, 7, 7, 512)         0         \n",
            "                                                                 \n",
            " global_max_pooling2d (Globa  (None, 512)              0         \n",
            " lMaxPooling2D)                                                  \n",
            "                                                                 \n",
            " dense (Dense)               (None, 512)               262656    \n",
            "                                                                 \n",
            " dropout (Dropout)           (None, 512)               0         \n",
            "                                                                 \n",
            " dense_1 (Dense)             (None, 4)                 2052      \n",
            "                                                                 \n",
            "=================================================================\n",
            "Total params: 14,979,396\n",
            "Trainable params: 264,708\n",
            "Non-trainable params: 14,714,688\n",
            "_________________________________________________________________\n"
          ]
        }
      ]
    },
    {
      "cell_type": "code",
      "source": [
        "def load_data(dir_path):\n",
        "    \"\"\"\n",
        "    Load resized images as np.arrays to workspace\n",
        "    \"\"\"\n",
        "    X = []\n",
        "    y = []\n",
        "    i = 0\n",
        "    labels = dict()\n",
        "    for path in tqdm(sorted(os.listdir(dir_path))):\n",
        "        if not path.startswith('.'):\n",
        "            labels[i] = path\n",
        "            for file in os.listdir(dir_path + path):\n",
        "                if not file.startswith('.'):\n",
        "                    img = cv2.imread(dir_path + path + '/' + file)\n",
        "                    X.append(img)\n",
        "                    y.append(i)\n",
        "            i += 1\n",
        "    X = np.array(X)\n",
        "    y = np.array(y)\n",
        "    print(f'{len(X)} images loaded from {dir_path} directory.')\n",
        "    return X, y, labels"
      ],
      "metadata": {
        "id": "_-t3KauQK5X6"
      },
      "execution_count": 11,
      "outputs": []
    },
    {
      "cell_type": "code",
      "source": [
        "X_val, y_val, labels = load_data(validation_path)"
      ],
      "metadata": {
        "colab": {
          "base_uri": "https://localhost:8080/"
        },
        "id": "K_xyKh5IK82p",
        "outputId": "aec8b130-1ce1-4084-eb72-8ffeb5797b53"
      },
      "execution_count": 12,
      "outputs": [
        {
          "output_type": "stream",
          "name": "stderr",
          "text": [
            "100%|██████████| 4/4 [00:00<00:00, 51.64it/s]"
          ]
        },
        {
          "output_type": "stream",
          "name": "stdout",
          "text": [
            "87 images loaded from /content/dataset_rey_rot/val/ directory.\n"
          ]
        },
        {
          "output_type": "stream",
          "name": "stderr",
          "text": [
            "\n"
          ]
        }
      ]
    },
    {
      "cell_type": "code",
      "source": [
        "import matplotlib.pyplot as plt\n",
        "def plotHistory(history):\n",
        "  N = np.arange(0, EPOCHS)\n",
        "  plt.figure()\n",
        "  plt.plot(N, history.history[\"loss\"], label=\"train_loss\")\n",
        "  plt.plot(N, history.history[\"val_loss\"], label=\"val_loss\")\n",
        "  plt.plot(N, history.history[\"accuracy\"], label=\"train_acc\")\n",
        "  plt.plot(N, history.history[\"val_accuracy\"], label=\"val_acc\")\n",
        "  plt.title(\"Training/Validation Loss and Accuracy\")\n",
        "  plt.xlabel(\"Epoch #\")\n",
        "  plt.ylabel(\"Loss/Accuracy\")\n",
        "  plt.legend()"
      ],
      "metadata": {
        "id": "VJTRA3xkLQeC"
      },
      "execution_count": 13,
      "outputs": []
    },
    {
      "cell_type": "code",
      "source": [
        "EPOCHS = 60\n",
        "def trainModel():\n",
        "  model = define_model()\n",
        "  # create data generator\n",
        "  datagen = ImageDataGenerator(rescale=1./255)\n",
        "  train_it = datagen.flow_from_directory(train_path, batch_size=64, target_size=(224, 224))\n",
        "  test_it = datagen.flow_from_directory(test_path, batch_size=64, target_size=(224, 224))\n",
        "\n",
        "  history = model.fit(train_it, steps_per_epoch=len(train_it),\n",
        "\t\tvalidation_data=test_it, validation_steps=len(test_it), epochs=EPOCHS, verbose=1)\n",
        "  \n",
        "  loss, acc = model.evaluate(test_it, steps=len(test_it), verbose=1)\n",
        "  print('acc > %.3f' % (acc * 100.0))\n",
        "  print(\"loss : \", loss)    \n",
        "  \n",
        "  plotHistory(history)\n",
        "\n",
        "  return model"
      ],
      "metadata": {
        "id": "As5u3IG9LbaJ"
      },
      "execution_count": 14,
      "outputs": []
    },
    {
      "cell_type": "code",
      "source": [
        "modelVgg = trainModel()"
      ],
      "metadata": {
        "colab": {
          "base_uri": "https://localhost:8080/",
          "height": 1000
        },
        "id": "s1XoAYMuLeP5",
        "outputId": "f492ee44-e51c-42ba-b44f-1ecfc19a0838"
      },
      "execution_count": 15,
      "outputs": [
        {
          "output_type": "stream",
          "name": "stdout",
          "text": [
            "Found 708 images belonging to 4 classes.\n",
            "Found 91 images belonging to 4 classes.\n",
            "Epoch 1/60\n",
            "12/12 [==============================] - 23s 624ms/step - loss: 1.2472 - accuracy: 0.5226 - val_loss: 0.8595 - val_accuracy: 0.6264\n",
            "Epoch 2/60\n",
            "12/12 [==============================] - 4s 315ms/step - loss: 0.8832 - accuracy: 0.6398 - val_loss: 0.6354 - val_accuracy: 0.7912\n",
            "Epoch 3/60\n",
            "12/12 [==============================] - 4s 318ms/step - loss: 0.6147 - accuracy: 0.7655 - val_loss: 0.4751 - val_accuracy: 0.8571\n",
            "Epoch 4/60\n",
            "12/12 [==============================] - 4s 324ms/step - loss: 0.4684 - accuracy: 0.8362 - val_loss: 0.4058 - val_accuracy: 0.8901\n",
            "Epoch 5/60\n",
            "12/12 [==============================] - 4s 320ms/step - loss: 0.4183 - accuracy: 0.8630 - val_loss: 0.3373 - val_accuracy: 0.8791\n",
            "Epoch 6/60\n",
            "12/12 [==============================] - 4s 315ms/step - loss: 0.3235 - accuracy: 0.9082 - val_loss: 0.3137 - val_accuracy: 0.8571\n",
            "Epoch 7/60\n",
            "12/12 [==============================] - 4s 328ms/step - loss: 0.2924 - accuracy: 0.9138 - val_loss: 0.3097 - val_accuracy: 0.8681\n",
            "Epoch 8/60\n",
            "12/12 [==============================] - 4s 322ms/step - loss: 0.2605 - accuracy: 0.9153 - val_loss: 0.2718 - val_accuracy: 0.8901\n",
            "Epoch 9/60\n",
            "12/12 [==============================] - 4s 326ms/step - loss: 0.2336 - accuracy: 0.9251 - val_loss: 0.2711 - val_accuracy: 0.8901\n",
            "Epoch 10/60\n",
            "12/12 [==============================] - 4s 335ms/step - loss: 0.2675 - accuracy: 0.9138 - val_loss: 0.2828 - val_accuracy: 0.8791\n",
            "Epoch 11/60\n",
            "12/12 [==============================] - 4s 327ms/step - loss: 0.2412 - accuracy: 0.9294 - val_loss: 0.2954 - val_accuracy: 0.9121\n",
            "Epoch 12/60\n",
            "12/12 [==============================] - 4s 329ms/step - loss: 0.2144 - accuracy: 0.9251 - val_loss: 0.3051 - val_accuracy: 0.8791\n",
            "Epoch 13/60\n",
            "12/12 [==============================] - 4s 360ms/step - loss: 0.1870 - accuracy: 0.9407 - val_loss: 0.2542 - val_accuracy: 0.9011\n",
            "Epoch 14/60\n",
            "12/12 [==============================] - 4s 333ms/step - loss: 0.1676 - accuracy: 0.9477 - val_loss: 0.2282 - val_accuracy: 0.9341\n",
            "Epoch 15/60\n",
            "12/12 [==============================] - 4s 345ms/step - loss: 0.1617 - accuracy: 0.9449 - val_loss: 0.2465 - val_accuracy: 0.9451\n",
            "Epoch 16/60\n",
            "12/12 [==============================] - 4s 334ms/step - loss: 0.1456 - accuracy: 0.9562 - val_loss: 0.2460 - val_accuracy: 0.9231\n",
            "Epoch 17/60\n",
            "12/12 [==============================] - 4s 338ms/step - loss: 0.1325 - accuracy: 0.9689 - val_loss: 0.2332 - val_accuracy: 0.9451\n",
            "Epoch 18/60\n",
            "12/12 [==============================] - 4s 346ms/step - loss: 0.1235 - accuracy: 0.9703 - val_loss: 0.2511 - val_accuracy: 0.9341\n",
            "Epoch 19/60\n",
            "12/12 [==============================] - 4s 364ms/step - loss: 0.1114 - accuracy: 0.9746 - val_loss: 0.2145 - val_accuracy: 0.9451\n",
            "Epoch 20/60\n",
            "12/12 [==============================] - 4s 343ms/step - loss: 0.1115 - accuracy: 0.9619 - val_loss: 0.2501 - val_accuracy: 0.9231\n",
            "Epoch 21/60\n",
            "12/12 [==============================] - 4s 348ms/step - loss: 0.1640 - accuracy: 0.9407 - val_loss: 0.2748 - val_accuracy: 0.9231\n",
            "Epoch 22/60\n",
            "12/12 [==============================] - 4s 348ms/step - loss: 0.1639 - accuracy: 0.9492 - val_loss: 0.2402 - val_accuracy: 0.9121\n",
            "Epoch 23/60\n",
            "12/12 [==============================] - 4s 352ms/step - loss: 0.1247 - accuracy: 0.9689 - val_loss: 0.2331 - val_accuracy: 0.9560\n",
            "Epoch 24/60\n",
            "12/12 [==============================] - 4s 348ms/step - loss: 0.0992 - accuracy: 0.9760 - val_loss: 0.2139 - val_accuracy: 0.9560\n",
            "Epoch 25/60\n",
            "12/12 [==============================] - 4s 339ms/step - loss: 0.0877 - accuracy: 0.9788 - val_loss: 0.2351 - val_accuracy: 0.9560\n",
            "Epoch 26/60\n",
            "12/12 [==============================] - 4s 347ms/step - loss: 0.0931 - accuracy: 0.9788 - val_loss: 0.2665 - val_accuracy: 0.9231\n",
            "Epoch 27/60\n",
            "12/12 [==============================] - 4s 341ms/step - loss: 0.1032 - accuracy: 0.9718 - val_loss: 0.2211 - val_accuracy: 0.9560\n",
            "Epoch 28/60\n",
            "12/12 [==============================] - 4s 340ms/step - loss: 0.0846 - accuracy: 0.9788 - val_loss: 0.2805 - val_accuracy: 0.9341\n",
            "Epoch 29/60\n",
            "12/12 [==============================] - 4s 343ms/step - loss: 0.0722 - accuracy: 0.9845 - val_loss: 0.2342 - val_accuracy: 0.9560\n",
            "Epoch 30/60\n",
            "12/12 [==============================] - 4s 337ms/step - loss: 0.0742 - accuracy: 0.9831 - val_loss: 0.2233 - val_accuracy: 0.9560\n",
            "Epoch 31/60\n",
            "12/12 [==============================] - 4s 360ms/step - loss: 0.0888 - accuracy: 0.9746 - val_loss: 0.2938 - val_accuracy: 0.9231\n",
            "Epoch 32/60\n",
            "12/12 [==============================] - 4s 341ms/step - loss: 0.0746 - accuracy: 0.9802 - val_loss: 0.2149 - val_accuracy: 0.9560\n",
            "Epoch 33/60\n",
            "12/12 [==============================] - 4s 339ms/step - loss: 0.0727 - accuracy: 0.9831 - val_loss: 0.2618 - val_accuracy: 0.9560\n",
            "Epoch 34/60\n",
            "12/12 [==============================] - 4s 344ms/step - loss: 0.0493 - accuracy: 0.9887 - val_loss: 0.2388 - val_accuracy: 0.9451\n",
            "Epoch 35/60\n",
            "12/12 [==============================] - 4s 332ms/step - loss: 0.0624 - accuracy: 0.9802 - val_loss: 0.2455 - val_accuracy: 0.9451\n",
            "Epoch 36/60\n",
            "12/12 [==============================] - 4s 332ms/step - loss: 0.0525 - accuracy: 0.9887 - val_loss: 0.2084 - val_accuracy: 0.9560\n",
            "Epoch 37/60\n",
            "12/12 [==============================] - 4s 345ms/step - loss: 0.0461 - accuracy: 0.9944 - val_loss: 0.2402 - val_accuracy: 0.9560\n",
            "Epoch 38/60\n",
            "12/12 [==============================] - 4s 364ms/step - loss: 0.0435 - accuracy: 0.9929 - val_loss: 0.2317 - val_accuracy: 0.9560\n",
            "Epoch 39/60\n",
            "12/12 [==============================] - 4s 365ms/step - loss: 0.0508 - accuracy: 0.9901 - val_loss: 0.2371 - val_accuracy: 0.9451\n",
            "Epoch 40/60\n",
            "12/12 [==============================] - 4s 370ms/step - loss: 0.0516 - accuracy: 0.9915 - val_loss: 0.2402 - val_accuracy: 0.9451\n",
            "Epoch 41/60\n",
            "12/12 [==============================] - 4s 343ms/step - loss: 0.0462 - accuracy: 0.9915 - val_loss: 0.2109 - val_accuracy: 0.9670\n",
            "Epoch 42/60\n",
            "12/12 [==============================] - 4s 343ms/step - loss: 0.0465 - accuracy: 0.9887 - val_loss: 0.2288 - val_accuracy: 0.9451\n",
            "Epoch 43/60\n",
            "12/12 [==============================] - 4s 342ms/step - loss: 0.0394 - accuracy: 0.9915 - val_loss: 0.2556 - val_accuracy: 0.9451\n",
            "Epoch 44/60\n",
            "12/12 [==============================] - 4s 341ms/step - loss: 0.0504 - accuracy: 0.9901 - val_loss: 0.2174 - val_accuracy: 0.9560\n",
            "Epoch 45/60\n",
            "12/12 [==============================] - 4s 351ms/step - loss: 0.0484 - accuracy: 0.9845 - val_loss: 0.2283 - val_accuracy: 0.9560\n",
            "Epoch 46/60\n",
            "12/12 [==============================] - 4s 342ms/step - loss: 0.0405 - accuracy: 0.9972 - val_loss: 0.2737 - val_accuracy: 0.9451\n",
            "Epoch 47/60\n",
            "12/12 [==============================] - 4s 342ms/step - loss: 0.0319 - accuracy: 0.9972 - val_loss: 0.2959 - val_accuracy: 0.9341\n",
            "Epoch 48/60\n",
            "12/12 [==============================] - 4s 349ms/step - loss: 0.0376 - accuracy: 0.9887 - val_loss: 0.2215 - val_accuracy: 0.9560\n",
            "Epoch 49/60\n",
            "12/12 [==============================] - 4s 365ms/step - loss: 0.0426 - accuracy: 0.9901 - val_loss: 0.2357 - val_accuracy: 0.9670\n",
            "Epoch 50/60\n",
            "12/12 [==============================] - 4s 341ms/step - loss: 0.0309 - accuracy: 0.9958 - val_loss: 0.2380 - val_accuracy: 0.9451\n",
            "Epoch 51/60\n",
            "12/12 [==============================] - 4s 333ms/step - loss: 0.0329 - accuracy: 0.9972 - val_loss: 0.2858 - val_accuracy: 0.9560\n",
            "Epoch 52/60\n",
            "12/12 [==============================] - 4s 340ms/step - loss: 0.0313 - accuracy: 0.9944 - val_loss: 0.2452 - val_accuracy: 0.9451\n",
            "Epoch 53/60\n",
            "12/12 [==============================] - 4s 343ms/step - loss: 0.0340 - accuracy: 0.9958 - val_loss: 0.2493 - val_accuracy: 0.9560\n",
            "Epoch 54/60\n",
            "12/12 [==============================] - 4s 337ms/step - loss: 0.0191 - accuracy: 0.9986 - val_loss: 0.2575 - val_accuracy: 0.9560\n",
            "Epoch 55/60\n",
            "12/12 [==============================] - 4s 340ms/step - loss: 0.0374 - accuracy: 0.9944 - val_loss: 0.2872 - val_accuracy: 0.9451\n",
            "Epoch 56/60\n",
            "12/12 [==============================] - 4s 346ms/step - loss: 0.0598 - accuracy: 0.9831 - val_loss: 0.2499 - val_accuracy: 0.9451\n",
            "Epoch 57/60\n",
            "12/12 [==============================] - 4s 340ms/step - loss: 0.0442 - accuracy: 0.9887 - val_loss: 0.2493 - val_accuracy: 0.9560\n",
            "Epoch 58/60\n",
            "12/12 [==============================] - 4s 340ms/step - loss: 0.0340 - accuracy: 0.9958 - val_loss: 0.2382 - val_accuracy: 0.9560\n",
            "Epoch 59/60\n",
            "12/12 [==============================] - 4s 346ms/step - loss: 0.0371 - accuracy: 0.9929 - val_loss: 0.2742 - val_accuracy: 0.9560\n",
            "Epoch 60/60\n",
            "12/12 [==============================] - 4s 332ms/step - loss: 0.0254 - accuracy: 0.9958 - val_loss: 0.2560 - val_accuracy: 0.9560\n",
            "2/2 [==============================] - 1s 143ms/step - loss: 0.2560 - accuracy: 0.9560\n",
            "acc > 95.604\n",
            "loss :  0.2560287117958069\n"
          ]
        },
        {
          "output_type": "display_data",
          "data": {
            "text/plain": [
              "<Figure size 432x288 with 1 Axes>"
            ],
            "image/png": "[encoded data removed]"
          },
          "metadata": {
            "needs_background": "light"
          }
        }
      ]
    }
  ]
}