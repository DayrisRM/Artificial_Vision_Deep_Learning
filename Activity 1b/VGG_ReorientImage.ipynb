{
  "nbformat": 4,
  "nbformat_minor": 0,
  "metadata": {
    "colab": {
      "name": "VGG_ReorientImage.ipynb",
      "provenance": [],
      "authorship_tag": "ABX9TyPMgsf/FKqPCSQTyX9ndduf"
    },
    "kernelspec": {
      "name": "python3",
      "display_name": "Python 3"
    },
    "language_info": {
      "name": "python"
    },
    "accelerator": "GPU",
    "gpuClass": "standard"
  },
  "cells": [
    {
      "cell_type": "code",
      "execution_count": 1,
      "metadata": {
        "colab": {
          "resources": {
            "http://localhost:8080/nbextensions/google.colab/files.js": {
              "data": "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",
              "ok": true,
              "headers": [
                [
                  "content-type",
                  "application/javascript"
                ]
              ],
              "status": 200,
              "status_text": ""
            }
          },
          "base_uri": "https://localhost:8080/",
          "height": 73
        },
        "id": "G_7W08srIKxZ",
        "outputId": "ce3c933d-c028-4855-f5fa-5b036acbba7d"
      },
      "outputs": [
        {
          "output_type": "display_data",
          "data": {
            "text/plain": [
              "<IPython.core.display.HTML object>"
            ],
            "text/html": [
              "\n",
              "     <input type=\"file\" id=\"files-1d0c34d2-0fa2-4ce5-940c-88a81f70d593\" name=\"files[]\" multiple disabled\n",
              "        style=\"border:none\" />\n",
              "     <output id=\"result-1d0c34d2-0fa2-4ce5-940c-88a81f70d593\">\n",
              "      Upload widget is only available when the cell has been executed in the\n",
              "      current browser session. Please rerun this cell to enable.\n",
              "      </output>\n",
              "      <script src=\"/nbextensions/google.colab/files.js\"></script> "
            ]
          },
          "metadata": {}
        },
        {
          "output_type": "stream",
          "name": "stdout",
          "text": [
            "Saving dataset_rey_rot.zip to dataset_rey_rot.zip\n"
          ]
        }
      ],
      "source": [
        "from google.colab import files\n",
        "uploaded = files.upload()"
      ]
    },
    {
      "cell_type": "code",
      "source": [
        "import zipfile\n",
        "import io\n",
        "data = zipfile.ZipFile(io.BytesIO(uploaded['dataset_rey_rot.zip']), 'r')\n",
        "data.extractall()"
      ],
      "metadata": {
        "id": "w4iyZvkSIshf"
      },
      "execution_count": 2,
      "outputs": []
    },
    {
      "cell_type": "code",
      "source": [
        "from tqdm import tqdm\n",
        "import os\n",
        "import cv2\n",
        "import numpy as np\n",
        "import itertools\n",
        "from sklearn.metrics import accuracy_score, confusion_matrix\n",
        "from PIL import Image"
      ],
      "metadata": {
        "id": "bJPTqqevIx2-"
      },
      "execution_count": 3,
      "outputs": []
    },
    {
      "cell_type": "code",
      "source": [
        "train_path = '/content/dataset_rey_rot/train/' \n",
        "test_path = '/content/dataset_rey_rot/test/'\n",
        "validation_path = '/content/dataset_rey_rot/val/'"
      ],
      "metadata": {
        "id": "bi-eVf0jI02G"
      },
      "execution_count": 4,
      "outputs": []
    },
    {
      "cell_type": "code",
      "source": [
        "classes = ['rot0', 'rot90','rot180','rot-90']"
      ],
      "metadata": {
        "id": "bYljkOQ2I2gO"
      },
      "execution_count": 5,
      "outputs": []
    },
    {
      "cell_type": "code",
      "source": [
        "print('The training set consists of ', \n",
        "      classes[0] + ': ',\n",
        "      len(os.listdir(train_path + classes[0] + '/')), ' images. ',\n",
        "      classes[1] + ': ',\n",
        "      len(os.listdir(train_path + classes[1] + '/')), ' images. ',\n",
        "      classes[2] + ': ',\n",
        "      len(os.listdir(train_path + classes[2] + '/')), ' images. ',\n",
        "      classes[3] + ': ',\n",
        "      len(os.listdir(train_path + classes[3] + '/')), ' images. '\n",
        "      )"
      ],
      "metadata": {
        "colab": {
          "base_uri": "https://localhost:8080/"
        },
        "id": "ZKcRj8OFI7OR",
        "outputId": "5b703040-ec5f-42b6-fbfe-aa654d8529bd"
      },
      "execution_count": 6,
      "outputs": [
        {
          "output_type": "stream",
          "name": "stdout",
          "text": [
            "The training set consists of  rot0:  253  images.  rot90:  348  images.  rot180:  24  images.  rot-90:  83  images. \n"
          ]
        }
      ]
    },
    {
      "cell_type": "code",
      "source": [
        "print('The test set consists of ', \n",
        "      classes[0] + ': ',\n",
        "      len(os.listdir(test_path + classes[0] + '/')), ' images. ',\n",
        "      classes[1] + ': ',\n",
        "      len(os.listdir(test_path + classes[1] + '/')), ' images. ',\n",
        "      classes[2] + ': ',\n",
        "      len(os.listdir(test_path + classes[2] + '/')), ' images. ',\n",
        "      classes[3] + ': ',\n",
        "      len(os.listdir(test_path + classes[3] + '/')), ' images. '\n",
        "      )"
      ],
      "metadata": {
        "colab": {
          "base_uri": "https://localhost:8080/"
        },
        "id": "Xs-GFQ7GI-XO",
        "outputId": "736ae212-eb99-4eca-b322-f95c3bd0de01"
      },
      "execution_count": 7,
      "outputs": [
        {
          "output_type": "stream",
          "name": "stdout",
          "text": [
            "The test set consists of  rot0:  33  images.  rot90:  44  images.  rot180:  3  images.  rot-90:  11  images. \n"
          ]
        }
      ]
    },
    {
      "cell_type": "markdown",
      "source": [
        "**-------------> VGG16 model <-------------**"
      ],
      "metadata": {
        "id": "fi7HZXMHJA6X"
      }
    },
    {
      "cell_type": "code",
      "source": [
        "from keras.applications.vgg16 import VGG16\n",
        "from keras.models import Model\n",
        "from keras.layers import Dense\n",
        "from keras.layers import Flatten\n",
        "from tensorflow.keras.optimizers import SGD\n",
        "from keras.preprocessing.image import ImageDataGenerator\n",
        "import tensorflow as tf\n",
        "from matplotlib import pyplot\n",
        "from keras.callbacks import EarlyStopping"
      ],
      "metadata": {
        "id": "6X_FaRUHJKEP"
      },
      "execution_count": 8,
      "outputs": []
    },
    {
      "cell_type": "code",
      "source": [
        "# define cnn model\n",
        "def define_model():\n",
        "  # load model\n",
        "  model = VGG16(include_top=False, input_shape=(224, 224, 3))\n",
        "  # mark loaded layers as not trainable\n",
        "  for layer in model.layers:\n",
        "    layer.trainable = False\n",
        "  \n",
        "  last_layer = model.get_layer('block5_pool')\n",
        "  last_output = last_layer.output\n",
        "  x = tf.keras.layers.GlobalMaxPooling2D()(last_output)\n",
        "  x = tf.keras.layers.Dense(512, activation='relu')(x)\n",
        "  x = tf.keras.layers.Dropout(0.5)(x)\n",
        "  x = tf.keras.layers.Dense(4, activation='softmax')(x)\n",
        "  model = tf.keras.Model(model.input, x)  \n",
        "\n",
        "  model.compile(optimizer='adam', loss='categorical_crossentropy', metrics=['accuracy'])\n",
        "\n",
        "  return model"
      ],
      "metadata": {
        "id": "g2Dt8NvWKrEb"
      },
      "execution_count": 9,
      "outputs": []
    },
    {
      "cell_type": "code",
      "source": [
        "model = define_model()\n",
        "model.summary()"
      ],
      "metadata": {
        "colab": {
          "base_uri": "https://localhost:8080/"
        },
        "id": "lcC0wNIWK0tq",
        "outputId": "9bee24bf-24c2-4acb-8cf9-7d55e167a25c"
      },
      "execution_count": 42,
      "outputs": [
        {
          "output_type": "stream",
          "name": "stdout",
          "text": [
            "Model: \"model_5\"\n",
            "_________________________________________________________________\n",
            " Layer (type)                Output Shape              Param #   \n",
            "=================================================================\n",
            " input_6 (InputLayer)        [(None, 224, 224, 3)]     0         \n",
            "                                                                 \n",
            " block1_conv1 (Conv2D)       (None, 224, 224, 64)      1792      \n",
            "                                                                 \n",
            " block1_conv2 (Conv2D)       (None, 224, 224, 64)      36928     \n",
            "                                                                 \n",
            " block1_pool (MaxPooling2D)  (None, 112, 112, 64)      0         \n",
            "                                                                 \n",
            " block2_conv1 (Conv2D)       (None, 112, 112, 128)     73856     \n",
            "                                                                 \n",
            " block2_conv2 (Conv2D)       (None, 112, 112, 128)     147584    \n",
            "                                                                 \n",
            " block2_pool (MaxPooling2D)  (None, 56, 56, 128)       0         \n",
            "                                                                 \n",
            " block3_conv1 (Conv2D)       (None, 56, 56, 256)       295168    \n",
            "                                                                 \n",
            " block3_conv2 (Conv2D)       (None, 56, 56, 256)       590080    \n",
            "                                                                 \n",
            " block3_conv3 (Conv2D)       (None, 56, 56, 256)       590080    \n",
            "                                                                 \n",
            " block3_pool (MaxPooling2D)  (None, 28, 28, 256)       0         \n",
            "                                                                 \n",
            " block4_conv1 (Conv2D)       (None, 28, 28, 512)       1180160   \n",
            "                                                                 \n",
            " block4_conv2 (Conv2D)       (None, 28, 28, 512)       2359808   \n",
            "                                                                 \n",
            " block4_conv3 (Conv2D)       (None, 28, 28, 512)       2359808   \n",
            "                                                                 \n",
            " block4_pool (MaxPooling2D)  (None, 14, 14, 512)       0         \n",
            "                                                                 \n",
            " block5_conv1 (Conv2D)       (None, 14, 14, 512)       2359808   \n",
            "                                                                 \n",
            " block5_conv2 (Conv2D)       (None, 14, 14, 512)       2359808   \n",
            "                                                                 \n",
            " block5_conv3 (Conv2D)       (None, 14, 14, 512)       2359808   \n",
            "                                                                 \n",
            " block5_pool (MaxPooling2D)  (None, 7, 7, 512)         0         \n",
            "                                                                 \n",
            " global_max_pooling2d_5 (Glo  (None, 512)              0         \n",
            " balMaxPooling2D)                                                \n",
            "                                                                 \n",
            " dense_10 (Dense)            (None, 512)               262656    \n",
            "                                                                 \n",
            " dropout_5 (Dropout)         (None, 512)               0         \n",
            "                                                                 \n",
            " dense_11 (Dense)            (None, 4)                 2052      \n",
            "                                                                 \n",
            "=================================================================\n",
            "Total params: 14,979,396\n",
            "Trainable params: 264,708\n",
            "Non-trainable params: 14,714,688\n",
            "_________________________________________________________________\n"
          ]
        }
      ]
    },
    {
      "cell_type": "code",
      "source": [
        "def load_data(dir_path):\n",
        "    \"\"\"\n",
        "    Load resized images as np.arrays to workspace\n",
        "    \"\"\"\n",
        "    X = []\n",
        "    y = []\n",
        "    i = 0\n",
        "    labels = dict()\n",
        "    for path in tqdm(sorted(os.listdir(dir_path))):\n",
        "        if not path.startswith('.'):\n",
        "            labels[i] = path\n",
        "            for file in os.listdir(dir_path + path):\n",
        "                if not file.startswith('.'):\n",
        "                    img = cv2.imread(dir_path + path + '/' + file)\n",
        "                    X.append(img)\n",
        "                    y.append(i)\n",
        "            i += 1\n",
        "    X = np.array(X)\n",
        "    y = np.array(y)\n",
        "    print(f'{len(X)} images loaded from {dir_path} directory.')\n",
        "    return X, y, labels"
      ],
      "metadata": {
        "id": "_-t3KauQK5X6"
      },
      "execution_count": 11,
      "outputs": []
    },
    {
      "cell_type": "code",
      "source": [
        "X_test, y_test, labels = load_data(test_path)\n",
        "labels\n"
      ],
      "metadata": {
        "colab": {
          "base_uri": "https://localhost:8080/"
        },
        "id": "K_xyKh5IK82p",
        "outputId": "ef329d80-f1c2-4b41-8708-06b69000c556"
      },
      "execution_count": 28,
      "outputs": [
        {
          "output_type": "stream",
          "name": "stderr",
          "text": [
            "100%|██████████| 4/4 [00:00<00:00, 78.89it/s]"
          ]
        },
        {
          "output_type": "stream",
          "name": "stdout",
          "text": [
            "91 images loaded from /content/dataset_rey_rot/test/ directory.\n"
          ]
        },
        {
          "output_type": "stream",
          "name": "stderr",
          "text": [
            "\n"
          ]
        },
        {
          "output_type": "execute_result",
          "data": {
            "text/plain": [
              "{0: 'rot-90', 1: 'rot0', 2: 'rot180', 3: 'rot90'}"
            ]
          },
          "metadata": {},
          "execution_count": 28
        }
      ]
    },
    {
      "cell_type": "code",
      "source": [
        "import matplotlib.pyplot as plt\n",
        "def plotHistory(history):\n",
        "  N = np.arange(0, EPOCHS)\n",
        "  plt.figure()\n",
        "  plt.plot(N, history.history[\"loss\"], label=\"train_loss\")\n",
        "  plt.plot(N, history.history[\"val_loss\"], label=\"val_loss\")\n",
        "  plt.plot(N, history.history[\"accuracy\"], label=\"train_acc\")\n",
        "  plt.plot(N, history.history[\"val_accuracy\"], label=\"val_acc\")\n",
        "  plt.title(\"Training/Validation Loss and Accuracy\")\n",
        "  plt.xlabel(\"Epoch #\")\n",
        "  plt.ylabel(\"Loss/Accuracy\")\n",
        "  plt.legend()"
      ],
      "metadata": {
        "id": "VJTRA3xkLQeC"
      },
      "execution_count": 16,
      "outputs": []
    },
    {
      "cell_type": "code",
      "source": [
        "from keras.callbacks import EarlyStopping\n",
        "\n",
        "EPOCHS = 50\n",
        "def trainModel():\n",
        "  model = define_model()\n",
        "  # create data generator\n",
        "  datagen = ImageDataGenerator(rescale=1./255)\n",
        "  train_it = datagen.flow_from_directory(train_path, batch_size=64, target_size=(224, 224))\n",
        "  validation_it = datagen.flow_from_directory(validation_path, batch_size=64, target_size=(224, 224))\n",
        "  test_it = datagen.flow_from_directory(test_path, batch_size=64, target_size=(224, 224))\n",
        "\n",
        "  earlyStopping = EarlyStopping(monitor='loss', patience=10, verbose=1, mode='auto')\n",
        "\n",
        "  history = model.fit(\n",
        "      train_it, \n",
        "      steps_per_epoch=len(train_it),\n",
        "      validation_data=validation_it, \n",
        "      validation_steps=len(validation_it), \n",
        "      epochs=EPOCHS, \n",
        "      verbose=1,\n",
        "      callbacks=[earlyStopping])\n",
        "  \n",
        "  loss, acc = model.evaluate(test_it, steps=len(test_it), verbose=1)\n",
        "  print('acc > %.3f' % (acc * 100.0))\n",
        "  print(\"loss : \", loss)    \n",
        "  \n",
        "  plotHistory(history)\n",
        "\n",
        "  return model"
      ],
      "metadata": {
        "id": "As5u3IG9LbaJ"
      },
      "execution_count": 37,
      "outputs": []
    },
    {
      "cell_type": "code",
      "source": [
        "modelVgg = trainModel()"
      ],
      "metadata": {
        "colab": {
          "base_uri": "https://localhost:8080/",
          "height": 1000
        },
        "id": "s1XoAYMuLeP5",
        "outputId": "77efc105-02b0-43b1-f8a7-bf854802a81e"
      },
      "execution_count": 38,
      "outputs": [
        {
          "output_type": "stream",
          "name": "stdout",
          "text": [
            "Found 708 images belonging to 4 classes.\n",
            "Found 87 images belonging to 4 classes.\n",
            "Found 91 images belonging to 4 classes.\n",
            "Epoch 1/50\n",
            "12/12 [==============================] - 5s 355ms/step - loss: 1.1331 - accuracy: 0.5551 - val_loss: 0.7363 - val_accuracy: 0.7816\n",
            "Epoch 2/50\n",
            "12/12 [==============================] - 4s 333ms/step - loss: 0.6828 - accuracy: 0.7698 - val_loss: 0.5511 - val_accuracy: 0.8276\n",
            "Epoch 3/50\n",
            "12/12 [==============================] - 4s 336ms/step - loss: 0.5299 - accuracy: 0.8376 - val_loss: 0.3911 - val_accuracy: 0.8966\n",
            "Epoch 4/50\n",
            "12/12 [==============================] - 4s 338ms/step - loss: 0.4170 - accuracy: 0.8785 - val_loss: 0.3563 - val_accuracy: 0.8966\n",
            "Epoch 5/50\n",
            "12/12 [==============================] - 4s 334ms/step - loss: 0.3632 - accuracy: 0.8785 - val_loss: 0.2981 - val_accuracy: 0.9310\n",
            "Epoch 6/50\n",
            "12/12 [==============================] - 4s 342ms/step - loss: 0.3250 - accuracy: 0.8884 - val_loss: 0.2790 - val_accuracy: 0.9310\n",
            "Epoch 7/50\n",
            "12/12 [==============================] - 4s 343ms/step - loss: 0.2700 - accuracy: 0.9280 - val_loss: 0.2593 - val_accuracy: 0.9540\n",
            "Epoch 8/50\n",
            "12/12 [==============================] - 4s 343ms/step - loss: 0.2744 - accuracy: 0.9167 - val_loss: 0.2924 - val_accuracy: 0.9195\n",
            "Epoch 9/50\n",
            "12/12 [==============================] - 4s 348ms/step - loss: 0.2480 - accuracy: 0.9223 - val_loss: 0.2184 - val_accuracy: 0.9425\n",
            "Epoch 10/50\n",
            "12/12 [==============================] - 4s 347ms/step - loss: 0.2173 - accuracy: 0.9364 - val_loss: 0.2295 - val_accuracy: 0.9080\n",
            "Epoch 11/50\n",
            "12/12 [==============================] - 4s 377ms/step - loss: 0.2097 - accuracy: 0.9322 - val_loss: 0.2068 - val_accuracy: 0.9655\n",
            "Epoch 12/50\n",
            "12/12 [==============================] - 4s 352ms/step - loss: 0.1776 - accuracy: 0.9477 - val_loss: 0.2064 - val_accuracy: 0.9655\n",
            "Epoch 13/50\n",
            "12/12 [==============================] - 4s 353ms/step - loss: 0.1595 - accuracy: 0.9520 - val_loss: 0.2002 - val_accuracy: 0.9540\n",
            "Epoch 14/50\n",
            "12/12 [==============================] - 4s 354ms/step - loss: 0.1396 - accuracy: 0.9605 - val_loss: 0.1955 - val_accuracy: 0.9770\n",
            "Epoch 15/50\n",
            "12/12 [==============================] - 4s 354ms/step - loss: 0.1446 - accuracy: 0.9534 - val_loss: 0.2062 - val_accuracy: 0.9540\n",
            "Epoch 16/50\n",
            "12/12 [==============================] - 4s 358ms/step - loss: 0.1267 - accuracy: 0.9548 - val_loss: 0.1946 - val_accuracy: 0.9655\n",
            "Epoch 17/50\n",
            "12/12 [==============================] - 4s 386ms/step - loss: 0.1212 - accuracy: 0.9605 - val_loss: 0.1987 - val_accuracy: 0.9655\n",
            "Epoch 18/50\n",
            "12/12 [==============================] - 4s 359ms/step - loss: 0.1331 - accuracy: 0.9633 - val_loss: 0.2131 - val_accuracy: 0.9425\n",
            "Epoch 19/50\n",
            "12/12 [==============================] - 4s 360ms/step - loss: 0.1398 - accuracy: 0.9520 - val_loss: 0.2018 - val_accuracy: 0.9655\n",
            "Epoch 20/50\n",
            "12/12 [==============================] - 4s 363ms/step - loss: 0.1320 - accuracy: 0.9605 - val_loss: 0.2058 - val_accuracy: 0.9310\n",
            "Epoch 21/50\n",
            "12/12 [==============================] - 4s 363ms/step - loss: 0.1366 - accuracy: 0.9534 - val_loss: 0.2026 - val_accuracy: 0.9425\n",
            "Epoch 22/50\n",
            "12/12 [==============================] - 4s 364ms/step - loss: 0.1160 - accuracy: 0.9633 - val_loss: 0.2034 - val_accuracy: 0.9540\n",
            "Epoch 23/50\n",
            "12/12 [==============================] - 4s 366ms/step - loss: 0.1018 - accuracy: 0.9760 - val_loss: 0.2113 - val_accuracy: 0.9540\n",
            "Epoch 24/50\n",
            "12/12 [==============================] - 4s 370ms/step - loss: 0.1187 - accuracy: 0.9633 - val_loss: 0.1888 - val_accuracy: 0.9655\n",
            "Epoch 25/50\n",
            "12/12 [==============================] - 4s 366ms/step - loss: 0.0862 - accuracy: 0.9760 - val_loss: 0.2096 - val_accuracy: 0.9770\n",
            "Epoch 26/50\n",
            "12/12 [==============================] - 4s 366ms/step - loss: 0.0807 - accuracy: 0.9802 - val_loss: 0.2118 - val_accuracy: 0.9655\n",
            "Epoch 27/50\n",
            "12/12 [==============================] - 4s 361ms/step - loss: 0.0730 - accuracy: 0.9816 - val_loss: 0.2098 - val_accuracy: 0.9655\n",
            "Epoch 28/50\n",
            "12/12 [==============================] - 4s 363ms/step - loss: 0.0800 - accuracy: 0.9859 - val_loss: 0.2120 - val_accuracy: 0.9655\n",
            "Epoch 29/50\n",
            "12/12 [==============================] - 4s 363ms/step - loss: 0.0722 - accuracy: 0.9816 - val_loss: 0.2018 - val_accuracy: 0.9540\n",
            "Epoch 30/50\n",
            "12/12 [==============================] - 4s 361ms/step - loss: 0.0678 - accuracy: 0.9859 - val_loss: 0.1968 - val_accuracy: 0.9540\n",
            "Epoch 31/50\n",
            "12/12 [==============================] - 4s 385ms/step - loss: 0.0754 - accuracy: 0.9788 - val_loss: 0.2049 - val_accuracy: 0.9540\n",
            "Epoch 32/50\n",
            "12/12 [==============================] - 4s 359ms/step - loss: 0.0600 - accuracy: 0.9887 - val_loss: 0.2162 - val_accuracy: 0.9655\n",
            "Epoch 33/50\n",
            "12/12 [==============================] - 4s 361ms/step - loss: 0.0595 - accuracy: 0.9859 - val_loss: 0.2361 - val_accuracy: 0.9540\n",
            "Epoch 34/50\n",
            "12/12 [==============================] - 4s 362ms/step - loss: 0.0549 - accuracy: 0.9887 - val_loss: 0.2218 - val_accuracy: 0.9770\n",
            "Epoch 35/50\n",
            "12/12 [==============================] - 4s 362ms/step - loss: 0.0735 - accuracy: 0.9774 - val_loss: 0.2748 - val_accuracy: 0.9310\n",
            "Epoch 36/50\n",
            "12/12 [==============================] - 4s 363ms/step - loss: 0.0740 - accuracy: 0.9816 - val_loss: 0.2166 - val_accuracy: 0.9655\n",
            "Epoch 37/50\n",
            "12/12 [==============================] - 4s 362ms/step - loss: 0.0691 - accuracy: 0.9802 - val_loss: 0.2621 - val_accuracy: 0.9425\n",
            "Epoch 38/50\n",
            "12/12 [==============================] - 4s 361ms/step - loss: 0.0723 - accuracy: 0.9760 - val_loss: 0.2292 - val_accuracy: 0.9655\n",
            "Epoch 39/50\n",
            "12/12 [==============================] - 4s 363ms/step - loss: 0.0646 - accuracy: 0.9859 - val_loss: 0.2398 - val_accuracy: 0.9540\n",
            "Epoch 40/50\n",
            "12/12 [==============================] - 4s 362ms/step - loss: 0.0526 - accuracy: 0.9873 - val_loss: 0.2166 - val_accuracy: 0.9540\n",
            "Epoch 41/50\n",
            "12/12 [==============================] - 4s 362ms/step - loss: 0.0413 - accuracy: 0.9929 - val_loss: 0.2285 - val_accuracy: 0.9655\n",
            "Epoch 42/50\n",
            "12/12 [==============================] - 4s 364ms/step - loss: 0.0303 - accuracy: 0.9972 - val_loss: 0.2105 - val_accuracy: 0.9655\n",
            "Epoch 43/50\n",
            "12/12 [==============================] - 4s 362ms/step - loss: 0.0301 - accuracy: 0.9958 - val_loss: 0.2279 - val_accuracy: 0.9655\n",
            "Epoch 44/50\n",
            "12/12 [==============================] - 4s 363ms/step - loss: 0.0349 - accuracy: 0.9915 - val_loss: 0.2261 - val_accuracy: 0.9655\n",
            "Epoch 45/50\n",
            "12/12 [==============================] - 4s 364ms/step - loss: 0.0297 - accuracy: 0.9958 - val_loss: 0.2183 - val_accuracy: 0.9655\n",
            "Epoch 46/50\n",
            "12/12 [==============================] - 4s 365ms/step - loss: 0.0274 - accuracy: 0.9958 - val_loss: 0.2439 - val_accuracy: 0.9655\n",
            "Epoch 47/50\n",
            "12/12 [==============================] - 4s 363ms/step - loss: 0.0273 - accuracy: 0.9972 - val_loss: 0.2198 - val_accuracy: 0.9425\n",
            "Epoch 48/50\n",
            "12/12 [==============================] - 4s 362ms/step - loss: 0.0293 - accuracy: 0.9972 - val_loss: 0.2363 - val_accuracy: 0.9655\n",
            "Epoch 49/50\n",
            "12/12 [==============================] - 4s 364ms/step - loss: 0.0207 - accuracy: 0.9986 - val_loss: 0.2364 - val_accuracy: 0.9655\n",
            "Epoch 50/50\n",
            "12/12 [==============================] - 4s 364ms/step - loss: 0.0249 - accuracy: 0.9972 - val_loss: 0.2250 - val_accuracy: 0.9540\n",
            "2/2 [==============================] - 1s 152ms/step - loss: 0.2323 - accuracy: 0.9560\n",
            "acc > 95.604\n",
            "loss :  0.2322692722082138\n"
          ]
        },
        {
          "output_type": "display_data",
          "data": {
            "text/plain": [
              "<Figure size 432x288 with 1 Axes>"
            ],
            "image/png": "[encoded data removed]"
          },
          "metadata": {
            "needs_background": "light"
          }
        }
      ]
    },
    {
      "cell_type": "code",
      "source": [
        "def plot_confusion_matrix(cm, classes,\n",
        "                          normalize=False,\n",
        "                          title='Confusion matrix',\n",
        "                          cmap=pyplot.cm.Blues):\n",
        "    \"\"\"\n",
        "    This function prints and plots the confusion matrix.\n",
        "    Normalization can be applied by setting `normalize=True`.\n",
        "    \"\"\"\n",
        "    pyplot.figure(figsize = (6,6))\n",
        "    pyplot.imshow(cm, interpolation='nearest', cmap=cmap)\n",
        "    pyplot.title(title)\n",
        "    pyplot.colorbar()\n",
        "    tick_marks = np.arange(len(classes))\n",
        "    pyplot.xticks(tick_marks, classes, rotation=90)\n",
        "    pyplot.yticks(tick_marks, classes)\n",
        "    if normalize:\n",
        "        cm = cm.astype('float') / cm.sum(axis=1)[:, np.newaxis]\n",
        "\n",
        "    thresh = cm.max() / 2.\n",
        "    cm = np.round(cm,2)\n",
        "    for i, j in itertools.product(range(cm.shape[0]), range(cm.shape[1])):\n",
        "        pyplot.text(j, i, cm[i, j],\n",
        "                 horizontalalignment=\"center\",\n",
        "                 color=\"white\" if cm[i, j] > thresh else \"black\")\n",
        "    pyplot.tight_layout()\n",
        "    pyplot.ylabel('True label')\n",
        "    pyplot.xlabel('Predicted label')\n",
        "    pyplot.show()"
      ],
      "metadata": {
        "id": "J2sLc2SHpqE2"
      },
      "execution_count": 39,
      "outputs": []
    },
    {
      "cell_type": "code",
      "source": [
        "from sklearn.metrics import classification_report\n",
        "def validateResults(model):   \n",
        "  predictions = model.predict(X_test, batch_size=32)\n",
        "  y_pred = np.argmax(predictions, axis=1) \n",
        "  y_true = np.argmax(y_test, axis=0)\n",
        "\n",
        "  print(\"\\n\"+ classification_report(y_test, y_pred, target_names=classes))\n",
        "  print(confusion_matrix(y_test, y_pred))\n",
        "  confusion_mtx = confusion_matrix(y_test, y_pred)\n",
        "  cm = plot_confusion_matrix(confusion_mtx, classes = list(labels.items()), normalize=False)"
      ],
      "metadata": {
        "id": "RjM91_wiptI7"
      },
      "execution_count": 40,
      "outputs": []
    },
    {
      "cell_type": "code",
      "source": [
        "validateResults(modelVgg)"
      ],
      "metadata": {
        "colab": {
          "base_uri": "https://localhost:8080/",
          "height": 713
        },
        "id": "VOkQdzCxr-0v",
        "outputId": "17b500db-8b19-4d38-ee89-eae8b2998595"
      },
      "execution_count": 41,
      "outputs": [
        {
          "output_type": "stream",
          "name": "stdout",
          "text": [
            "\n",
            "              precision    recall  f1-score   support\n",
            "\n",
            "        rot0       1.00      0.09      0.17        11\n",
            "       rot90       0.78      0.94      0.85        33\n",
            "      rot180       0.25      0.33      0.29         3\n",
            "      rot-90       0.89      0.93      0.91        44\n",
            "\n",
            "    accuracy                           0.81        91\n",
            "   macro avg       0.73      0.57      0.55        91\n",
            "weighted avg       0.84      0.81      0.78        91\n",
            "\n",
            "[[ 1  5  3  2]\n",
            " [ 0 31  0  2]\n",
            " [ 0  1  1  1]\n",
            " [ 0  3  0 41]]\n"
          ]
        },
        {
          "output_type": "display_data",
          "data": {
            "text/plain": [
              "<Figure size 432x432 with 2 Axes>"
            ],
            "image/png": "[encoded data removed]"
          },
          "metadata": {
            "needs_background": "light"
          }
        }
      ]
    }
  ]
}